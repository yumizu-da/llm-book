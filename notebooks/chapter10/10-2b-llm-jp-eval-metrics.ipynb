{
  "cells": [
    {
      "cell_type": "markdown",
      "metadata": {
        "id": "16JXHujfaaCg"
      },
      "source": [
        "# 第10章 性能評価"
      ]
    },
    {
      "cell_type": "markdown",
      "metadata": {
        "id": "VQViDL6VaeSG"
      },
      "source": [
        "## 10.2 評価指標を用いた自動評価"
      ]
    },
    {
      "cell_type": "markdown",
      "metadata": {
        "id": "TLbgbcWIaiLN"
      },
      "source": [
        "### 10.2.3 llm-jp-evalで使用される評価指標"
      ]
    },
    {
      "cell_type": "markdown",
      "metadata": {
        "id": "ztv9d8KBahfS"
      },
      "source": [
        "#### 完全一致率"
      ]
    },
    {
      "cell_type": "code",
      "execution_count": null,
      "metadata": {
        "colab": {
          "base_uri": "https://localhost:8080/"
        },
        "executionInfo": {
          "elapsed": 3,
          "status": "ok",
          "timestamp": 1722682697301,
          "user": {
            "displayName": "山田康輔",
            "userId": "11991200688175128135"
          },
          "user_tz": -540
        },
        "id": "7L1sDGW9T88O",
        "outputId": "8d9eff2c-3746-4fe6-d41e-c67e7b1ab56d"
      },
      "outputs": [
        {
          "name": "stdout",
          "output_type": "stream",
          "text": [
            "完全一致率: 0.3333333333333333\n"
          ]
        }
      ],
      "source": [
        "def calc_exact_match_ratio(\n",
        "    trues: list[str], preds: list[str]\n",
        ") -> float:\n",
        "    \"\"\"完全一致率を算出する\"\"\"\n",
        "    # どちらかの事例がなければ0\n",
        "    if len(trues) == 0 or len(preds) == 0:\n",
        "        return 0\n",
        "    # 正解テキストと予測テキストが一致していれば1、そうでなければ0\n",
        "    num_exact_match = sum(\n",
        "        1 if t == p else 0 for t, p in zip(trues, preds)\n",
        "    )\n",
        "    return num_exact_match / len(trues)\n",
        "\n",
        "# 正解テキスト列\n",
        "trues = [\"entailment\", \"entailment\", \"contradiction\"]\n",
        "# 予測テキスト列\n",
        "preds = [\"entailment\", \"entailmen\", \"neutral\"]\n",
        "# 完全一致率を算出する\n",
        "print(\"完全一致率:\", calc_exact_match_ratio(trues, preds))"
      ]
    },
    {
      "cell_type": "markdown",
      "metadata": {
        "id": "M2Q9H5RQbhwo"
      },
      "source": [
        "#### 文字ベースF値"
      ]
    },
    {
      "cell_type": "code",
      "execution_count": null,
      "metadata": {
        "colab": {
          "base_uri": "https://localhost:8080/"
        },
        "executionInfo": {
          "elapsed": 2,
          "status": "ok",
          "timestamp": 1721967973619,
          "user": {
            "displayName": "山田康輔",
            "userId": "11991200688175128135"
          },
          "user_tz": -540
        },
        "id": "LyMQ_kReJDSY",
        "outputId": "096b0aac-576c-473a-a816-2295e67a2346"
      },
      "outputs": [
        {
          "name": "stdout",
          "output_type": "stream",
          "text": [
            "文字ベースF値: 0.888888888888889\n"
          ]
        }
      ],
      "source": [
        "from collections import Counter\n",
        "\n",
        "def calc_char_f1(trues: list[str], preds: list[str]) -> float:\n",
        "    \"\"\"文字ベースF値を算出する\"\"\"\n",
        "    if len(trues) == 0 or len(preds) == 0:\n",
        "        return 0\n",
        "\n",
        "    char_f1_scores = []\n",
        "    for t, p in zip(trues, preds):\n",
        "        # 正解テキストと予測テキストのどちらかの文字がない場合\n",
        "        if len(t) == 0 or len(p) == 0:\n",
        "            # 両方とも文字がないならば1、そうでなければ0\n",
        "            char_f1_scores.append(float(t == p))\n",
        "            break\n",
        "        # 正解テキストと予測テキストの一致している文字数を算出する\n",
        "        common = Counter(list(t)) & Counter(list(p))\n",
        "        num_same = sum(common.values())\n",
        "        # 適合率を算出する\n",
        "        pre = num_same / len(p)\n",
        "        # 再現率を算出する\n",
        "        rec = num_same / len(t)\n",
        "        # F値を算出する\n",
        "        f1 = 2 * (pre * rec) / (pre + rec) if (pre + rec) != 0 else 0\n",
        "        char_f1_scores.append(f1)\n",
        "    return sum(char_f1_scores) / len(char_f1_scores)\n",
        "\n",
        "# 正解のテキスト列\n",
        "trues = [\"夏目漱石\"]\n",
        "# 予測のテキスト列\n",
        "preds = [\"夏目 漱石\"]\n",
        "# 文字ベースF値を算出する\n",
        "print(\"文字ベースF値:\", calc_char_f1(trues, preds))"
      ]
    },
    {
      "cell_type": "markdown",
      "metadata": {
        "id": "1NYMW0wIbqJR"
      },
      "source": [
        "#### 集合ベースF値"
      ]
    },
    {
      "cell_type": "code",
      "execution_count": null,
      "metadata": {
        "colab": {
          "base_uri": "https://localhost:8080/"
        },
        "executionInfo": {
          "elapsed": 7,
          "status": "ok",
          "timestamp": 1722857824892,
          "user": {
            "displayName": "山田康輔",
            "userId": "11991200688175128135"
          },
          "user_tz": -540
        },
        "id": "HuVk-KM6cd_f",
        "outputId": "250074fd-6cec-4ef7-913c-1aa80507bcc5"
      },
      "outputs": [
        {
          "name": "stdout",
          "output_type": "stream",
          "text": [
            "集合ベースF値: 0.5714285714285715\n"
          ]
        }
      ],
      "source": [
        "def calc_set_f1(trues: list[str], preds: list[str]) -> float:\n",
        "    \"\"\"集合ベースのF値を算出する\"\"\"\n",
        "    if len(trues) == 0 or len(preds) == 0:\n",
        "        return 0\n",
        "\n",
        "    set_f1_scores = []\n",
        "    # 事例単位で処理するs\n",
        "    for t, p in zip(trues, preds):\n",
        "        # 正解データを行ごとに分割し、集合にする\n",
        "        split_t = {x.strip() for x in t.split(\"\\n\")}\n",
        "        # 予測データを行ごとに分割し、集合にする\n",
        "        split_p = {x.strip() for x in p.split(\"\\n\")}\n",
        "        # 適合率を算出する\n",
        "        pre = sum(1 if y in split_t else 0 for y in split_p) / len(\n",
        "            split_p\n",
        "        )\n",
        "        # 再現率を算出する\n",
        "        rec = sum(1 if y in split_p else 0 for y in split_t) / len(\n",
        "            split_t\n",
        "        )\n",
        "        # F値を算出する\n",
        "        f1 = 2 * (pre * rec) / (pre + rec) if (pre + rec) != 0 else 0\n",
        "        set_f1_scores.append(f1)\n",
        "    return sum(set_f1_scores) / len(set_f1_scores)\n",
        "\n",
        "# 正解集合\n",
        "trues = [\n",
        "    \"営業収益 positive\\n\"\n",
        "    \"純営業収益 positive\\n\"\n",
        "    \"経常利益 positive\\n\"\n",
        "    \"当期純利益 positive\"\n",
        "]\n",
        "# 予測集合\n",
        "preds = [\"営業収益 positive\\n純営業収益 negative\\n経常利益 positive\"]\n",
        "# 集合ベースF値を算出する\n",
        "print(\"集合ベースF値:\", calc_set_f1(trues, preds))"
      ]
    },
    {
      "cell_type": "markdown",
      "metadata": {
        "id": "Pp_6yX6obtae"
      },
      "source": [
        "#### 相関係数"
      ]
    },
    {
      "cell_type": "code",
      "execution_count": null,
      "metadata": {
        "colab": {
          "base_uri": "https://localhost:8080/"
        },
        "executionInfo": {
          "elapsed": 1019,
          "status": "ok",
          "timestamp": 1721967974637,
          "user": {
            "displayName": "山田康輔",
            "userId": "11991200688175128135"
          },
          "user_tz": -540
        },
        "id": "zQigAWkODI-f",
        "outputId": "0c9774eb-17f8-4161-970c-1d624c7ea031"
      },
      "outputs": [
        {
          "name": "stdout",
          "output_type": "stream",
          "text": [
            "ピアソンの積率相関係数: 0.8514063149390616\n",
            "スピアマンの順位相関係数: 0.7999999999999999\n"
          ]
        }
      ],
      "source": [
        "import math\n",
        "from scipy.stats import pearsonr, spearmanr\n",
        "\n",
        "def calc_pearsonr(trues: list[str], preds: list[str]) -> float:\n",
        "    \"\"\"ピアソンの積率相関係数を算出する\"\"\"\n",
        "    score = pearsonr(\n",
        "        list(map(float, trues)), list(map(float, preds))\n",
        "    ).statistic\n",
        "    return 0.0 if math.isnan(score) else float(score)\n",
        "\n",
        "def calc_spearmanr(trues: list[str], preds: list[str]) -> float:\n",
        "    \"\"\"スピアマンの順位相関係数を算出する\"\"\"\n",
        "    score = spearmanr(\n",
        "        list(map(float, trues)), list(map(float, preds))\n",
        "    ).statistic\n",
        "    return 0.0 if math.isnan(score) else float(score)\n",
        "\n",
        "trues = [\"1.2\", \"2.2\", \"3.3\", \"4.9\"]\n",
        "preds = [\"1.1\", \"4.1\", \"4.0\", \"5.0\"]\n",
        "print(\"ピアソンの積率相関係数:\", calc_pearsonr(trues, preds))\n",
        "print(\"スピアマンの順位相関係数:\", calc_spearmanr(trues, preds))"
      ]
    }
  ],
  "metadata": {
    "accelerator": "GPU",
    "colab": {
      "authorship_tag": "ABX9TyNQqT0Sh8Qr2uqjx0XwQXke",
      "gpuType": "T4",
      "provenance": []
    },
    "kernelspec": {
      "display_name": "Python 3",
      "name": "python3"
    },
    "language_info": {
      "name": "python"
    }
  },
  "nbformat": 4,
  "nbformat_minor": 0
}